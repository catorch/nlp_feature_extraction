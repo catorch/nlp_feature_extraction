{
  "nbformat": 4,
  "nbformat_minor": 0,
  "metadata": {
    "colab": {
      "provenance": []
    },
    "kernelspec": {
      "name": "python3",
      "display_name": "Python 3"
    },
    "language_info": {
      "name": "python"
    }
  },
  "cells": [
    {
      "cell_type": "code",
      "execution_count": null,
      "metadata": {
        "id": "ssPKrA_7DXEn"
      },
      "outputs": [],
      "source": [
        "!pip install openai pandas"
      ]
    },
    {
      "cell_type": "code",
      "source": [
        "import openai\n",
        "import pandas as pd\n",
        "from openai import OpenAI\n",
        "import json\n",
        "import re"
      ],
      "metadata": {
        "id": "sOL8r_VwFYXB"
      },
      "execution_count": 52,
      "outputs": []
    },
    {
      "cell_type": "markdown",
      "source": [
        "### Define Taxonomy Data"
      ],
      "metadata": {
        "id": "owJ7P0wiIV9q"
      }
    },
    {
      "cell_type": "code",
      "source": [
        "# Sample taxonomy data\n",
        "taxonomy_data = {\n",
        "    \"Category\": [\"Beverages\", \"Snacks\", \"Household\"],\n",
        "    \"Subcategory\": [\"Soft Drinks\", \"Chips\", \"Cleaning Supplies\"]\n",
        "}\n",
        "taxonomy_df = pd.DataFrame(taxonomy_data)\n",
        "\n",
        "# Sample vendor catalog data with product descriptions\n",
        "vendor_catalog_data = {\n",
        "    \"Product Description\": [\n",
        "        \"Coca Cola 12oz can\",\n",
        "        \"Potato Chips 150g bag\",\n",
        "        \"Multi-surface cleaner 500ml\",\n",
        "        \"Energy drink 500ml\",\n",
        "        \"Corn chips 200g bag\"\n",
        "    ]\n",
        "}\n",
        "vendor_catalog_df = pd.DataFrame(vendor_catalog_data)"
      ],
      "metadata": {
        "id": "Y7MjbRttD2Ut"
      },
      "execution_count": 21,
      "outputs": []
    },
    {
      "cell_type": "code",
      "source": [
        "OPENAI_API_KEY = \"YOUR_API_KEY_HERE\"\n",
        "client = OpenAI(api_key=OPENAI_API_KEY)"
      ],
      "metadata": {
        "id": "0WQPYb9rDm8w"
      },
      "execution_count": 8,
      "outputs": []
    },
    {
      "cell_type": "markdown",
      "source": [
        "### Define Classification Function"
      ],
      "metadata": {
        "id": "epvRk8FVIeUC"
      }
    },
    {
      "cell_type": "code",
      "source": [
        "def classify_product(product_description, taxonomy):\n",
        "\n",
        "    prompt = (\n",
        "        f\"Classify the following product into the correct category and subcategory based on this taxonomy: {taxonomy}. \"\n",
        "        f\"Return the result as a JSON object with 'category' and 'subcategory' keys.\\n\\nProduct: {product_description}\"\n",
        "    )\n",
        "\n",
        "    response = client.chat.completions.create(\n",
        "        model=\"gpt-4o\",\n",
        "        messages=[\n",
        "            {\"role\": \"user\", \"content\": prompt}\n",
        "        ]\n",
        "    )\n",
        "\n",
        "    raw_content = response.choices[0].message.content.strip()\n",
        "\n",
        "    try:\n",
        "        extracted_content = extract_response(raw_content)\n",
        "        result = json.loads(extracted_content)\n",
        "        return result.get(\"category\"), result.get(\"subcategory\")\n",
        "    except json.JSONDecodeError as e:\n",
        "        # Handle parsing error\n",
        "        print(f\"JSON parsing error: {e}\")\n",
        "        print(\"Returning None for both category and subcategory due to parsing failure.\\n\")\n",
        "        return None, None"
      ],
      "metadata": {
        "id": "0YblsSzgD-Cw"
      },
      "execution_count": 54,
      "outputs": []
    },
    {
      "cell_type": "code",
      "source": [
        "def extract_response(input_string: str) -> str:\n",
        "    regex = r'```json\\s*([\\s\\S]*?)\\s*```'\n",
        "    matches = re.search(regex, input_string)\n",
        "\n",
        "    if matches:\n",
        "        return matches.group(1).strip()\n",
        "\n",
        "    return input_string"
      ],
      "metadata": {
        "id": "5CbQfIViHtm5"
      },
      "execution_count": 55,
      "outputs": []
    },
    {
      "cell_type": "markdown",
      "source": [
        "### Classify Products in Vendor Catalog"
      ],
      "metadata": {
        "id": "YLNDJ36TIh8a"
      }
    },
    {
      "cell_type": "code",
      "source": [
        "# Convert taxonomy to a string format for use in the prompt\n",
        "taxonomy_json = taxonomy_df.to_dict(orient=\"records\")\n",
        "taxonomy_json_str = json.dumps(taxonomy_json, indent=2)\n",
        "\n",
        "# Classify each product and unpack the category and subcategory\n",
        "vendor_catalog_df[['Category', 'Subcategory']] = vendor_catalog_df['Product Description'].apply(\n",
        "    lambda x: pd.Series(classify_product(x, taxonomy_json_str))\n",
        ")"
      ],
      "metadata": {
        "id": "2zLXK_cMEADM"
      },
      "execution_count": 56,
      "outputs": []
    },
    {
      "cell_type": "markdown",
      "source": [
        "### View Results"
      ],
      "metadata": {
        "id": "fDFyzuugIkVk"
      }
    },
    {
      "cell_type": "code",
      "source": [
        "vendor_catalog_df.head()"
      ],
      "metadata": {
        "colab": {
          "base_uri": "https://localhost:8080/",
          "height": 206
        },
        "id": "i3uU9zLhEwM8",
        "outputId": "2e2a3717-dbc3-4133-aa06-01321a48368a"
      },
      "execution_count": 57,
      "outputs": [
        {
          "output_type": "execute_result",
          "data": {
            "text/plain": [
              "           Product Description   Category        Subcategory\n",
              "0           Coca Cola 12oz can  Beverages        Soft Drinks\n",
              "1        Potato Chips 150g bag     Snacks              Chips\n",
              "2  Multi-surface cleaner 500ml  Household  Cleaning Supplies\n",
              "3           Energy drink 500ml  Beverages        Soft Drinks\n",
              "4          Corn chips 200g bag     Snacks              Chips"
            ],
            "text/html": [
              "\n",
              "  <div id=\"df-4ebfa168-ae55-4108-91cb-c0f875e80ad8\" class=\"colab-df-container\">\n",
              "    <div>\n",
              "<style scoped>\n",
              "    .dataframe tbody tr th:only-of-type {\n",
              "        vertical-align: middle;\n",
              "    }\n",
              "\n",
              "    .dataframe tbody tr th {\n",
              "        vertical-align: top;\n",
              "    }\n",
              "\n",
              "    .dataframe thead th {\n",
              "        text-align: right;\n",
              "    }\n",
              "</style>\n",
              "<table border=\"1\" class=\"dataframe\">\n",
              "  <thead>\n",
              "    <tr style=\"text-align: right;\">\n",
              "      <th></th>\n",
              "      <th>Product Description</th>\n",
              "      <th>Category</th>\n",
              "      <th>Subcategory</th>\n",
              "    </tr>\n",
              "  </thead>\n",
              "  <tbody>\n",
              "    <tr>\n",
              "      <th>0</th>\n",
              "      <td>Coca Cola 12oz can</td>\n",
              "      <td>Beverages</td>\n",
              "      <td>Soft Drinks</td>\n",
              "    </tr>\n",
              "    <tr>\n",
              "      <th>1</th>\n",
              "      <td>Potato Chips 150g bag</td>\n",
              "      <td>Snacks</td>\n",
              "      <td>Chips</td>\n",
              "    </tr>\n",
              "    <tr>\n",
              "      <th>2</th>\n",
              "      <td>Multi-surface cleaner 500ml</td>\n",
              "      <td>Household</td>\n",
              "      <td>Cleaning Supplies</td>\n",
              "    </tr>\n",
              "    <tr>\n",
              "      <th>3</th>\n",
              "      <td>Energy drink 500ml</td>\n",
              "      <td>Beverages</td>\n",
              "      <td>Soft Drinks</td>\n",
              "    </tr>\n",
              "    <tr>\n",
              "      <th>4</th>\n",
              "      <td>Corn chips 200g bag</td>\n",
              "      <td>Snacks</td>\n",
              "      <td>Chips</td>\n",
              "    </tr>\n",
              "  </tbody>\n",
              "</table>\n",
              "</div>\n",
              "    <div class=\"colab-df-buttons\">\n",
              "\n",
              "  <div class=\"colab-df-container\">\n",
              "    <button class=\"colab-df-convert\" onclick=\"convertToInteractive('df-4ebfa168-ae55-4108-91cb-c0f875e80ad8')\"\n",
              "            title=\"Convert this dataframe to an interactive table.\"\n",
              "            style=\"display:none;\">\n",
              "\n",
              "  <svg xmlns=\"http://www.w3.org/2000/svg\" height=\"24px\" viewBox=\"0 -960 960 960\">\n",
              "    <path d=\"M120-120v-720h720v720H120Zm60-500h600v-160H180v160Zm220 220h160v-160H400v160Zm0 220h160v-160H400v160ZM180-400h160v-160H180v160Zm440 0h160v-160H620v160ZM180-180h160v-160H180v160Zm440 0h160v-160H620v160Z\"/>\n",
              "  </svg>\n",
              "    </button>\n",
              "\n",
              "  <style>\n",
              "    .colab-df-container {\n",
              "      display:flex;\n",
              "      gap: 12px;\n",
              "    }\n",
              "\n",
              "    .colab-df-convert {\n",
              "      background-color: #E8F0FE;\n",
              "      border: none;\n",
              "      border-radius: 50%;\n",
              "      cursor: pointer;\n",
              "      display: none;\n",
              "      fill: #1967D2;\n",
              "      height: 32px;\n",
              "      padding: 0 0 0 0;\n",
              "      width: 32px;\n",
              "    }\n",
              "\n",
              "    .colab-df-convert:hover {\n",
              "      background-color: #E2EBFA;\n",
              "      box-shadow: 0px 1px 2px rgba(60, 64, 67, 0.3), 0px 1px 3px 1px rgba(60, 64, 67, 0.15);\n",
              "      fill: #174EA6;\n",
              "    }\n",
              "\n",
              "    .colab-df-buttons div {\n",
              "      margin-bottom: 4px;\n",
              "    }\n",
              "\n",
              "    [theme=dark] .colab-df-convert {\n",
              "      background-color: #3B4455;\n",
              "      fill: #D2E3FC;\n",
              "    }\n",
              "\n",
              "    [theme=dark] .colab-df-convert:hover {\n",
              "      background-color: #434B5C;\n",
              "      box-shadow: 0px 1px 3px 1px rgba(0, 0, 0, 0.15);\n",
              "      filter: drop-shadow(0px 1px 2px rgba(0, 0, 0, 0.3));\n",
              "      fill: #FFFFFF;\n",
              "    }\n",
              "  </style>\n",
              "\n",
              "    <script>\n",
              "      const buttonEl =\n",
              "        document.querySelector('#df-4ebfa168-ae55-4108-91cb-c0f875e80ad8 button.colab-df-convert');\n",
              "      buttonEl.style.display =\n",
              "        google.colab.kernel.accessAllowed ? 'block' : 'none';\n",
              "\n",
              "      async function convertToInteractive(key) {\n",
              "        const element = document.querySelector('#df-4ebfa168-ae55-4108-91cb-c0f875e80ad8');\n",
              "        const dataTable =\n",
              "          await google.colab.kernel.invokeFunction('convertToInteractive',\n",
              "                                                    [key], {});\n",
              "        if (!dataTable) return;\n",
              "\n",
              "        const docLinkHtml = 'Like what you see? Visit the ' +\n",
              "          '<a target=\"_blank\" href=https://colab.research.google.com/notebooks/data_table.ipynb>data table notebook</a>'\n",
              "          + ' to learn more about interactive tables.';\n",
              "        element.innerHTML = '';\n",
              "        dataTable['output_type'] = 'display_data';\n",
              "        await google.colab.output.renderOutput(dataTable, element);\n",
              "        const docLink = document.createElement('div');\n",
              "        docLink.innerHTML = docLinkHtml;\n",
              "        element.appendChild(docLink);\n",
              "      }\n",
              "    </script>\n",
              "  </div>\n",
              "\n",
              "\n",
              "<div id=\"df-bf65b527-b741-4658-94ed-7c056b3563e5\">\n",
              "  <button class=\"colab-df-quickchart\" onclick=\"quickchart('df-bf65b527-b741-4658-94ed-7c056b3563e5')\"\n",
              "            title=\"Suggest charts\"\n",
              "            style=\"display:none;\">\n",
              "\n",
              "<svg xmlns=\"http://www.w3.org/2000/svg\" height=\"24px\"viewBox=\"0 0 24 24\"\n",
              "     width=\"24px\">\n",
              "    <g>\n",
              "        <path d=\"M19 3H5c-1.1 0-2 .9-2 2v14c0 1.1.9 2 2 2h14c1.1 0 2-.9 2-2V5c0-1.1-.9-2-2-2zM9 17H7v-7h2v7zm4 0h-2V7h2v10zm4 0h-2v-4h2v4z\"/>\n",
              "    </g>\n",
              "</svg>\n",
              "  </button>\n",
              "\n",
              "<style>\n",
              "  .colab-df-quickchart {\n",
              "      --bg-color: #E8F0FE;\n",
              "      --fill-color: #1967D2;\n",
              "      --hover-bg-color: #E2EBFA;\n",
              "      --hover-fill-color: #174EA6;\n",
              "      --disabled-fill-color: #AAA;\n",
              "      --disabled-bg-color: #DDD;\n",
              "  }\n",
              "\n",
              "  [theme=dark] .colab-df-quickchart {\n",
              "      --bg-color: #3B4455;\n",
              "      --fill-color: #D2E3FC;\n",
              "      --hover-bg-color: #434B5C;\n",
              "      --hover-fill-color: #FFFFFF;\n",
              "      --disabled-bg-color: #3B4455;\n",
              "      --disabled-fill-color: #666;\n",
              "  }\n",
              "\n",
              "  .colab-df-quickchart {\n",
              "    background-color: var(--bg-color);\n",
              "    border: none;\n",
              "    border-radius: 50%;\n",
              "    cursor: pointer;\n",
              "    display: none;\n",
              "    fill: var(--fill-color);\n",
              "    height: 32px;\n",
              "    padding: 0;\n",
              "    width: 32px;\n",
              "  }\n",
              "\n",
              "  .colab-df-quickchart:hover {\n",
              "    background-color: var(--hover-bg-color);\n",
              "    box-shadow: 0 1px 2px rgba(60, 64, 67, 0.3), 0 1px 3px 1px rgba(60, 64, 67, 0.15);\n",
              "    fill: var(--button-hover-fill-color);\n",
              "  }\n",
              "\n",
              "  .colab-df-quickchart-complete:disabled,\n",
              "  .colab-df-quickchart-complete:disabled:hover {\n",
              "    background-color: var(--disabled-bg-color);\n",
              "    fill: var(--disabled-fill-color);\n",
              "    box-shadow: none;\n",
              "  }\n",
              "\n",
              "  .colab-df-spinner {\n",
              "    border: 2px solid var(--fill-color);\n",
              "    border-color: transparent;\n",
              "    border-bottom-color: var(--fill-color);\n",
              "    animation:\n",
              "      spin 1s steps(1) infinite;\n",
              "  }\n",
              "\n",
              "  @keyframes spin {\n",
              "    0% {\n",
              "      border-color: transparent;\n",
              "      border-bottom-color: var(--fill-color);\n",
              "      border-left-color: var(--fill-color);\n",
              "    }\n",
              "    20% {\n",
              "      border-color: transparent;\n",
              "      border-left-color: var(--fill-color);\n",
              "      border-top-color: var(--fill-color);\n",
              "    }\n",
              "    30% {\n",
              "      border-color: transparent;\n",
              "      border-left-color: var(--fill-color);\n",
              "      border-top-color: var(--fill-color);\n",
              "      border-right-color: var(--fill-color);\n",
              "    }\n",
              "    40% {\n",
              "      border-color: transparent;\n",
              "      border-right-color: var(--fill-color);\n",
              "      border-top-color: var(--fill-color);\n",
              "    }\n",
              "    60% {\n",
              "      border-color: transparent;\n",
              "      border-right-color: var(--fill-color);\n",
              "    }\n",
              "    80% {\n",
              "      border-color: transparent;\n",
              "      border-right-color: var(--fill-color);\n",
              "      border-bottom-color: var(--fill-color);\n",
              "    }\n",
              "    90% {\n",
              "      border-color: transparent;\n",
              "      border-bottom-color: var(--fill-color);\n",
              "    }\n",
              "  }\n",
              "</style>\n",
              "\n",
              "  <script>\n",
              "    async function quickchart(key) {\n",
              "      const quickchartButtonEl =\n",
              "        document.querySelector('#' + key + ' button');\n",
              "      quickchartButtonEl.disabled = true;  // To prevent multiple clicks.\n",
              "      quickchartButtonEl.classList.add('colab-df-spinner');\n",
              "      try {\n",
              "        const charts = await google.colab.kernel.invokeFunction(\n",
              "            'suggestCharts', [key], {});\n",
              "      } catch (error) {\n",
              "        console.error('Error during call to suggestCharts:', error);\n",
              "      }\n",
              "      quickchartButtonEl.classList.remove('colab-df-spinner');\n",
              "      quickchartButtonEl.classList.add('colab-df-quickchart-complete');\n",
              "    }\n",
              "    (() => {\n",
              "      let quickchartButtonEl =\n",
              "        document.querySelector('#df-bf65b527-b741-4658-94ed-7c056b3563e5 button');\n",
              "      quickchartButtonEl.style.display =\n",
              "        google.colab.kernel.accessAllowed ? 'block' : 'none';\n",
              "    })();\n",
              "  </script>\n",
              "</div>\n",
              "\n",
              "    </div>\n",
              "  </div>\n"
            ],
            "application/vnd.google.colaboratory.intrinsic+json": {
              "type": "dataframe",
              "variable_name": "vendor_catalog_df",
              "summary": "{\n  \"name\": \"vendor_catalog_df\",\n  \"rows\": 5,\n  \"fields\": [\n    {\n      \"column\": \"Product Description\",\n      \"properties\": {\n        \"dtype\": \"string\",\n        \"num_unique_values\": 5,\n        \"samples\": [\n          \"Potato Chips 150g bag\",\n          \"Corn chips 200g bag\",\n          \"Multi-surface cleaner 500ml\"\n        ],\n        \"semantic_type\": \"\",\n        \"description\": \"\"\n      }\n    },\n    {\n      \"column\": \"Category\",\n      \"properties\": {\n        \"dtype\": \"string\",\n        \"num_unique_values\": 3,\n        \"samples\": [\n          \"Beverages\",\n          \"Snacks\",\n          \"Household\"\n        ],\n        \"semantic_type\": \"\",\n        \"description\": \"\"\n      }\n    },\n    {\n      \"column\": \"Subcategory\",\n      \"properties\": {\n        \"dtype\": \"string\",\n        \"num_unique_values\": 3,\n        \"samples\": [\n          \"Soft Drinks\",\n          \"Chips\",\n          \"Cleaning Supplies\"\n        ],\n        \"semantic_type\": \"\",\n        \"description\": \"\"\n      }\n    }\n  ]\n}"
            }
          },
          "metadata": {},
          "execution_count": 57
        }
      ]
    }
  ]
}